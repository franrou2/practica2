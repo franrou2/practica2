{
 "cells": [
  {
   "cell_type": "markdown",
   "metadata": {},
   "source": [
    "# <center> <font color = 'Mediumauqamarine'> <ins>**Practica 2**\n",
    "\n",
    "### <font color = 'snow'> <ins> Ejercicio:</ins> \n",
    "\n",
    "##### <font color = 'bisque'> 10. Un club de hockey posee las estadísticas de todxs sus jugadorxs de la última temporada jugada del torneo de hockey mixto. Poseen una lista con los nombres, otra con los goles a favor, otra con los goles evitados y la última con las asistencias realizadas."
   ]
  },
  {
   "cell_type": "code",
   "execution_count": 1,
   "metadata": {},
   "outputs": [],
   "source": [
    "names = \"\"\" Agustin, Yanina, Andrés, Ariadna, Bautista, CAROLINA, CESAR, David, Diego, Dolores, DYLAN, ELIANA, Emanuel, Fabián, Noelia, Francisca', FEDERICO, Fernanda, GONZALO, Nancy \"\"\"\n",
    "goals = [0, 10, 4, 0, 5, 14, 0, 0, 7, 2, 1, 1, 1, 5, 6, 1, 1, 2, 0, 11]\n",
    "goals_avoided = [0, 2, 0, 0, 5, 2, 0, 0, 1, 2, 0, 5, 5, 0, 1, 0, 2, 3, 0, 0]\n",
    "assists = [0, 5, 1, 0, 5, 2, 0, 0, 1, 2, 1, 5, 5, 0, 1, 0, 2, 3, 1, 0]"
   ]
  },
  {
   "cell_type": "markdown",
   "metadata": {},
   "source": [
    "##### <font color = 'yellow'> <b> Nota: </b>\n",
    "<ul>\n",
    "<blockquote> <li> Las 4 estructuras están ordenadas de forma que los elementos en la misma posición corresponden a un mismo jugador o jugadora.\n",
    "</ul>"
   ]
  },
  {
   "cell_type": "markdown",
   "metadata": {},
   "source": [
    "##### <font color = 'bisque'>El club está por otorgar los premios de cierre de temporada y necesita:\n",
    "##### <font color = 'yellow'> <b> Nota: </b>\n",
    "<ul>\n",
    "<blockquote> <li> Realizar funciones con cada ítem\n",
    "</ul>"
   ]
  },
  {
   "cell_type": "markdown",
   "metadata": {},
   "source": [
    "##### <font color = lavendar> 1. Generar una estructura con todas las estadísticas asociadas a cada jugador o jugadora."
   ]
  },
  {
   "cell_type": "code",
   "execution_count": 17,
   "metadata": {},
   "outputs": [],
   "source": [
    "# la funcion recibe las listas con datos y crea un diccionario cuya clave son los nombres de los jugadorxs y el valor una tupla con sus estadisticas\n",
    "def lista_unica(names, goals, goals_avoided, assists):\n",
    "    lista_nombres = names.split(\", \")\n",
    "    dictionary = {}\n",
    "    for i in range(len(lista_nombres)):\n",
    "        nombre = lista_nombres[i]\n",
    "        goles = goals[i]\n",
    "        goles_evitados = goals_avoided[i]\n",
    "        asistencias = assists[i]\n",
    "        dictionary[nombre] = (goles, goles_evitados, asistencias)\n",
    "    return dictionary\n",
    "\n",
    "diccionario = lista_unica(names, goals, goals_avoided, assists)\n",
    "cantidad_de_partidos = 25\n",
    "#print (diccionario.items())\n"
   ]
  },
  {
   "cell_type": "markdown",
   "metadata": {},
   "source": [
    "##### <font color = lavendar> 2. Conocer el nombre y la cantidad de goles del goleador o goleadora."
   ]
  },
  {
   "cell_type": "code",
   "execution_count": 18,
   "metadata": {},
   "outputs": [
    {
     "name": "stdout",
     "output_type": "stream",
     "text": [
      "el goleador es CAROLINA con 14\n"
     ]
    }
   ],
   "source": [
    "def goleador (diccionario):\n",
    "    maximo = -1\n",
    "    for nombre, (goles, *_) in diccionario.items():\n",
    "        if goles > maximo:\n",
    "            maximo = goles\n",
    "            jugador = nombre\n",
    "    return jugador, maximo          \n",
    "jugadora, goles = goleador(diccionario)    \n",
    "print(f'el goleador es {jugadora} con {goles}')\n"
   ]
  },
  {
   "cell_type": "markdown",
   "metadata": {},
   "source": [
    "##### <font color = lavendar> 3. Conocer el nombre del jugador o jugadora más influyente, esto se consigue sumando goles a favor, goles evitados y cantidad de asistencias. La particularidad es que los goles a favor, evitados y las asistencias NO valen lo mismo (es un promedio ponderado):\n",
    "<table style = \"width:40%\">\n",
    "<tr>\n",
    "<th>           </th>\n",
    "<th><b>valor<b\\></th>\n",
    "</tr>\n",
    "<tr>\n",
    "<td>goles a favor</td>\n",
    "<td>1.5</td>\n",
    "<tr>\n",
    "<td>goles evitados</td>\n",
    "<td>1.25</td>\n",
    "<tr>\n",
    "<td>asistencias </td>\n",
    "<td>1</td>\n",
    "<tr>\n"
   ]
  },
  {
   "cell_type": "code",
   "execution_count": 19,
   "metadata": {},
   "outputs": [
    {
     "name": "stdout",
     "output_type": "stream",
     "text": [
      "el jugador mas influente es CAROLINA con un valor de 25.5\n"
     ]
    }
   ],
   "source": [
    "def mas_influyente (diccionario):\n",
    "    g_a_f = 1.5\n",
    "    g_evit = 1.25\n",
    "    asist = 1\n",
    "    most_influential =\"\"\n",
    "    the_highest_value = 0\n",
    "    for nombre, (goles, goles_evitados, asistencias) in diccionario.items():\n",
    "        total = (goles * g_a_f) + (goles_evitados * g_evit) + (asistencias * asist)\n",
    "        if total > the_highest_value:\n",
    "            the_highest_value = total\n",
    "            most_influential = nombre\n",
    "    return the_highest_value, most_influential\n",
    "valor_mas_alto, jugador_mas_influyente = mas_influyente(diccionario)\n",
    "print (f'el jugador mas influente es {jugador_mas_influyente} con un valor de {valor_mas_alto}')        "
   ]
  },
  {
   "cell_type": "markdown",
   "metadata": {},
   "source": [
    "##### <font color = lavendar>4. Conocer el promedio de goles por partido del equipo en general. Dato: Se jugaron 25 partidos en la temporada."
   ]
  },
  {
   "cell_type": "code",
   "execution_count": 21,
   "metadata": {},
   "outputs": [
    {
     "name": "stdout",
     "output_type": "stream",
     "text": [
      "el promedio de goles del equipo en la temporada fue 2.84\n"
     ]
    }
   ],
   "source": [
    "def promedio_de_goles_por_partido (diccionario, cantidad_de_partidos):\n",
    "    total_goles =0\n",
    "    for (goles,*_) in diccionario.values():\n",
    "        total_goles += goles\n",
    "    promedio = total_goles / cantidad_de_partidos\n",
    "    return promedio\n",
    "print(f'el promedio de goles del equipo en la temporada fue {promedio_de_goles_por_partido(diccionario,cantidad_de_partidos)}')    "
   ]
  },
  {
   "cell_type": "markdown",
   "metadata": {},
   "source": [
    "##### <font color = lavendar> 5. Conocer el promedio de goles por partido del goleador o goleadora. Dato: Se jugaron 25 partidos en la temporada."
   ]
  },
  {
   "cell_type": "code",
   "execution_count": 22,
   "metadata": {},
   "outputs": [
    {
     "name": "stdout",
     "output_type": "stream",
     "text": [
      "el promedio de goles del goleador en la temporada es 0.56\n"
     ]
    }
   ],
   "source": [
    "def promedio_de_goles_del_goleador (diccionario, cantidad_de_partidos):\n",
    "     capocannoniere,_= goleador (diccionario)\n",
    "     cantidad_goles_goleador = diccionario[capocannoniere][0]\n",
    "     promedio = cantidad_goles_goleador / cantidad_de_partidos\n",
    "     return promedio\n",
    "print (f'el promedio de goles del goleador en la temporada es {promedio_de_goles_del_goleador(diccionario, cantidad_de_partidos)}')"
   ]
  }
 ],
 "metadata": {
  "kernelspec": {
   "display_name": "venv",
   "language": "python",
   "name": "python3"
  },
  "language_info": {
   "codemirror_mode": {
    "name": "ipython",
    "version": 3
   },
   "file_extension": ".py",
   "mimetype": "text/x-python",
   "name": "python",
   "nbconvert_exporter": "python",
   "pygments_lexer": "ipython3",
   "version": "3.11.2"
  }
 },
 "nbformat": 4,
 "nbformat_minor": 2
}
