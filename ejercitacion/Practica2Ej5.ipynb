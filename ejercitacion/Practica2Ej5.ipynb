{
 "cells": [
  {
   "cell_type": "markdown",
   "metadata": {},
   "source": [
    "# <center> <font color = 'Moccasin'> <ins>**Practica 2**\n",
    "\n",
    "### <font color = 'mintcream'> <ins>Ejercicio:\n",
    "\n",
    "##### <font color = 'orange'> 5.Para la aceptación de un artículo en un congreso se definen las siguientes especificaciones que deben cumplir y recomendaciones de escritura:\n",
    "<ul>\n",
    "<li><b>título</b>:  \n",
    "<blockquote> <li>10 palabras como máximo</blockquote>  \n",
    "<li>cada oración del <b>resumen</b>:  \n",
    "<blockquote> <li>hasta 12 palabras: fácil de leer\n",
    "<li>entre 13-17 palabras: aceptable para leer\n",
    "<li>entre 18-25 palabras: difícil de leer\n",
    "<li>mas de 25 palabras: muy difícil</blockquote>\n",
    "</ul>\n",
    "\n",
    "Es importante destacar que los números no se consideran palabras al momento del análisis por su facilidad de lectura.  \n",
    "Dado un artículo en formato string, defina si cumple las especificaciones del título y\n",
    "cuántas oraciones tiene de cada categoría. El formato estándar en que recibe el string\n",
    "tiene la siguiente forma:  \n",
    "\n",
    "article = <font color = 'mediumseagreen'>\"\"\" título: Experiences in Developing a Distributed Agentbased\n",
    "Modeling Toolkit with Python Version 3  \n",
    "resumen: Distributed agent-based modeling (ABM) on high-performance\n",
    "computing resources provides the promise of capturing unprecedented\n",
    "details of large-scale complex systems. However, the specialized\n",
    "knowledge required for developing such ABMs creates barriers to wider\n",
    "adoption and utilization. Here we present our experiences in\n",
    "developing an initial implementation of Repast4Py, a Python-based\n",
    "distributed ABM toolkit. We build on our experiences in developing ABM\n",
    "toolkits, including Repast for High Performance Computing (Repast\n",
    "HPC), to identify the key elements of a useful distributed ABM\n",
    "toolkit. We leverage the Numba, NumPy, and PyTorch packages and the Python C-API to create a scalable modeling system that can exploit the\n",
    "largest HPC resources and emerging computing architectures. \"\"\"  \n",
    "<font color = 'orange'> En este ejemplo se debe informar:  \n",
    "<ul>\n",
    "<li>título: not ok\n",
    "<li>Cantidad de oraciones fáciles de leer: 1, aceptables para leer: 2, dificil de leer: 1,\n",
    "muy difícil de leer: 2\n",
    "\n"
   ]
  },
  {
   "cell_type": "markdown",
   "metadata": {},
   "source": [
    "Pasos a seguir para resolver la presente consigna:\n",
    "<ol>\n",
    "<li> Copiar el texto completo en una variable\n",
    "<li> Escindir titulo de resumen y almacenarlos en variables diferentes\n",
    "<li> Dividir el resumen en oraciones\n",
    "<li> Definir una funcion que reciba una oracion y cuente las palabras\n",
    "<li> Ejecutar la funcion para el titulo y  evaluar si cumple con las especificaciones\n",
    "<li> Ejecutar la funcion para cada una de las oraciones del resumen e informar la cantidad de cada categoria"
   ]
  },
  {
   "cell_type": "markdown",
   "metadata": {},
   "source": [
    "### Paso 1:"
   ]
  },
  {
   "cell_type": "code",
   "execution_count": 13,
   "metadata": {},
   "outputs": [],
   "source": [
    "texto = \"\"\"título: Experiences in Developing a Distributed Agentbased Modeling Toolkit with Python Version 3\n",
    "resumen: Distributed agent-based modeling (ABM) on high-performance computing resources provides the promise of capturing unprecedented details of large-scale complex systems. However, the specialized knowledge required for developing such ABMs creates barriers to wider adoption and utilization. Here we present our experiences in developing an initial implementation of Repast4Py, a Python-based distributed ABM toolkit. We build on our experiences in developing ABM toolkits, including Repast for High Performance Computing (Repast HPC), to identify the key elements of a useful distributed ABM toolkit. We leverage the Numba, NumPy, and PyTorch packages and the Python C-API to create a scalable modeling system that can exploit the largest HPC resources and emerging computing architectures.\"\"\""
   ]
  },
  {
   "cell_type": "markdown",
   "metadata": {},
   "source": [
    "### Paso 2: A efectos de separar el texto entre titulo y resumen, se toman en cuenta dos consideraciones. La primera que la separacion entre ambos esta definida por un salto de linea. La segunda, que se especifica al inicio del parrafo (mediante \"titulo:\" o \"resumen:\") a que seccion pertenece. "
   ]
  },
  {
   "cell_type": "code",
   "execution_count": 14,
   "metadata": {},
   "outputs": [],
   "source": [
    "parrafos = texto.split (\"\\n\")\n",
    "titulo = \"\"\n",
    "resumen = \"\"\n",
    "for oracion in parrafos:\n",
    "    if oracion.startswith(\"título:\"):\n",
    "        titulo = oracion[len(\"título:\"):]\n",
    "    elif oracion.startswith (\"resumen:\"):\n",
    "        resumen = oracion[len(\"resumen:\"):]"
   ]
  },
  {
   "cell_type": "markdown",
   "metadata": {},
   "source": [
    "### Paso 3:"
   ]
  },
  {
   "cell_type": "code",
   "execution_count": 15,
   "metadata": {},
   "outputs": [],
   "source": [
    "# El criterio adoptado para separar las oraciones entre si fue definido por la existencia de un punto (\".\")\n",
    "# Asimismo se utilizo .strip para no generar listas vacias\n",
    "oraciones_resumen = [sentencia for sentencia in resumen.split(\".\") if sentencia.strip()]"
   ]
  },
  {
   "cell_type": "markdown",
   "metadata": {},
   "source": [
    "### Paso 4:"
   ]
  },
  {
   "cell_type": "code",
   "execution_count": 16,
   "metadata": {},
   "outputs": [],
   "source": [
    "def contar_palabras (oracion):\n",
    "    words = oracion.split()\n",
    "    cant_of_words = sum (1 for word in words if not word.isdigit())\n",
    "    return cant_of_words  "
   ]
  },
  {
   "cell_type": "markdown",
   "metadata": {},
   "source": [
    "### Paso 5:"
   ]
  },
  {
   "cell_type": "code",
   "execution_count": 17,
   "metadata": {},
   "outputs": [
    {
     "name": "stdout",
     "output_type": "stream",
     "text": [
      "titulo: not ok\n"
     ]
    }
   ],
   "source": [
    "if contar_palabras(titulo) > 10:\n",
    "    print(\"titulo: not ok\")\n",
    "else:\n",
    "    print (\"titulo: ok\")\n",
    "\n",
    "           "
   ]
  },
  {
   "cell_type": "markdown",
   "metadata": {},
   "source": [
    "### Paso 6:"
   ]
  },
  {
   "cell_type": "code",
   "execution_count": 18,
   "metadata": {},
   "outputs": [
    {
     "name": "stdout",
     "output_type": "stream",
     "text": [
      "la cantidad de oraciones faciles de leer es:  0\n",
      "la cantidad de oraciones aceptable de leer es:  2\n",
      "la cantidad de oraciones dificil de leer es:  1\n",
      "la cantidad de oraciones muy dificil de leer es:  2\n"
     ]
    }
   ],
   "source": [
    "facil_de_leer = 0\n",
    "aceptable_de_leer = 0\n",
    "dificil_de_leer =0\n",
    "muy_dificil= 0\n",
    "for linea in oraciones_resumen:\n",
    "    cant_palabras = contar_palabras (linea)\n",
    "    if cant_palabras <= 12:\n",
    "        facil_de_leer += 1\n",
    "    elif 12 < cant_palabras <= 17:\n",
    "        aceptable_de_leer += 1\n",
    "    elif 17 < cant_palabras <= 25:\n",
    "        dificil_de_leer += 1\n",
    "    else:\n",
    "        muy_dificil += 1\n",
    "print(\"la cantidad de oraciones faciles de leer es: \", facil_de_leer)\n",
    "print(\"la cantidad de oraciones aceptable de leer es: \", aceptable_de_leer)\n",
    "print(\"la cantidad de oraciones dificil de leer es: \", dificil_de_leer)\n",
    "print (\"la cantidad de oraciones muy dificil de leer es: \", muy_dificil)        \n",
    "\n",
    "\n"
   ]
  }
 ],
 "metadata": {
  "kernelspec": {
   "display_name": "venv",
   "language": "python",
   "name": "python3"
  },
  "language_info": {
   "codemirror_mode": {
    "name": "ipython",
    "version": 3
   },
   "file_extension": ".py",
   "mimetype": "text/x-python",
   "name": "python",
   "nbconvert_exporter": "python",
   "pygments_lexer": "ipython3",
   "version": "3.11.2"
  }
 },
 "nbformat": 4,
 "nbformat_minor": 2
}
