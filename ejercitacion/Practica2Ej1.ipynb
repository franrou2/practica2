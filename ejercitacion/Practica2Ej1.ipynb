{
 "cells": [
  {
   "cell_type": "markdown",
   "metadata": {},
   "source": [
    "\n",
    "# **<center> <font color = 'green'> <ins> Practica 2** \n",
    "\n",
    "\n",
    "### <font color = 'red'> <ins> Ejercicio:\n",
    "\n",
    "##### <font color = 'yellow'> 1) Tomando el texto del README.md de numpy, copiar y pegar el texto en una variable, luego imprima todas las líneas cuya segunda palabra comience con una vocal (A, E, I, O, U, a, e, i, o, u) \n",
    "\n",
    "<font color = 'violet'>texto: <i> NumPy is the fundamental package for scientific computing with Python.\n",
    "Website: https://www.numpy.org\n",
    "Documentation: https://numpy.org/doc\n",
    "Mailing list: https://mail.python.org/mailman/listinfo/numpy-discussion\n",
    "Source code: https://github.com/numpy/numpy\n",
    "Contributing: https://www.numpy.org/devdocs/dev/index.html\n",
    "Bug reports: https://github.com/numpy/numpy/issues\n",
    "Report a security vulnerability: https://tidelift.com/docs/security\n",
    "It provides:\n",
    "a powerful N-dimensional array object\n",
    "sophisticated (broadcasting) functions\n",
    "tools for integrating C/C++ and Fortran code\n",
    "useful linear algebra, Fourier transform, and random number capabilities\n",
    "Testing:\n",
    "NumPy requires pytest and hypothesis. Tests can then be run after installation with:\n",
    "python -c \"import numpy, sys; sys.exit(numpy.test() is False)\"\n",
    "Code of Conduct\n",
    "NumPy is a community-driven open source project developed by a diverse group of contributors. The NumPy leadership has made a strong commitment to creating an open, inclusive, and positive community. Please read the NumPy Code of Conduct for guidance on how to interact with others in a way that makes our community thrive.\n",
    "Call for Contributions\n",
    "The NumPy project welcomes your expertise and enthusiasm!\n",
    "Small improvements or fixes are always appreciated. If you are considering larger contributions to the source code, please contact us through the mailing list first.\n",
    "Writing code isn’t the only way to contribute to NumPy. You can also:\n",
    "review pull requests\n",
    "help us stay on top of new and old issues\n",
    "develop tutorials, presentations, and other educational materials\n",
    "maintain and improve our website\n",
    "develop graphic design for our brand assets and promotional materials\n",
    "translate website content\n",
    "help with outreach and onboard new contributors\n",
    "write grant proposals and help with other fundraising efforts\n",
    "For more information about the ways you can contribute to NumPy, visit our website. If you’re unsure where to start or how your skills fit in, reach out! You can ask on the mailing list or here, on GitHub, by opening a new issue or leaving a comment on a relevant issue that is already open.\n",
    "Our preferred channels of communication are all public, but if you’d like to speak to us in private first, contact our community coordinators at numpy-team@googlegroups.com or on Slack (write numpy-team@googlegroups.com for an invitation).\n",
    "We also have a biweekly community call, details of which are announced on the mailing list. You are very welcome to join.\n",
    "If you are new to contributing to open source, this guide helps explain why, what, and how to successfully get involved."
   ]
  },
  {
   "cell_type": "markdown",
   "metadata": {},
   "source": [
    "El siguiente ejercicio se resolvera siguiendo los siguientes pasos:\n",
    "<ol>\n",
    "<li> Asigno a una variable el contenido del texto\n",
    "<li> Remuevo del texto algunos caracteres\n",
    "<li> Creo una funcion que reciba una palabra y evalue si es una vocal\n",
    "<li> Divido el texto en renglones o lineas\n",
    "<li> Por cada linea, si su longitud lo permite, ejecuto la funcion que recibe la segunda palabra. Si la funcion retorna verdadero, imprimo la linea"
   ]
  },
  {
   "cell_type": "markdown",
   "metadata": {},
   "source": [
    "## **Paso 1:**"
   ]
  },
  {
   "cell_type": "code",
   "execution_count": 6,
   "metadata": {},
   "outputs": [],
   "source": [
    "phrase = '''NumPy is the fundamental package for scientific computing with Python. \n",
    "Website: https://www.numpy.org\n",
    "Documentation: https://numpy.org/doc\n",
    "Mailing list: https://mail.python.org/mailman/listinfo/numpy-discussion\n",
    "Source code: https://github.com/numpy/numpy\n",
    "Contributing: https://www.numpy.org/devdocs/dev/index.html\n",
    "Bug reports: https://github.com/numpy/numpy/issues\n",
    "Report a security vulnerability: https://tidelift.com/docs/security\n",
    "It provides:\n",
    "a powerful N-dimensional array object\n",
    "sophisticated (broadcasting) functions\n",
    "tools for integrating C/C++ and Fortran code\n",
    "useful linear algebra, Fourier transform, and random number capabilities\n",
    "Testing:\n",
    "NumPy requires pytest and hypothesis. Tests can then be run after installation with:\n",
    "python -c \"import numpy, sys; sys.exit(numpy.test() is False)\"\n",
    "Code of Conduct\n",
    "NumPy is a community-driven open source project developed by a diverse group of contributors. The NumPy leadership has made a strong commitment to creating an open, inclusive, and positive community. Please read the NumPy Code of Conduct for guidance on how to interact with others in a way that makes our community thrive.\n",
    "Call for Contributions\n",
    "The NumPy project welcomes your expertise and enthusiasm!\n",
    "Small improvements or fixes are always appreciated. If you are considering larger contributions to the source code, please contact us through the mailing list first.\n",
    "Writing code isn’t the only way to contribute to NumPy. You can also:\n",
    "review pull requests\n",
    "help us stay on top of new and old issues\n",
    "develop tutorials, presentations, and other educational materials\n",
    "maintain and improve our website\n",
    "develop graphic design for our brand assets and promotional materials\n",
    "translate website content\n",
    "help with outreach and onboard new contributors\n",
    "write grant proposals and help with other fundraising efforts\n",
    "For more information about the ways you can contribute to NumPy, visit our website. If you’re unsure where to start or how your skills fit in, reach out! You can ask on the mailing list or here, on GitHub, by opening a new issue or leaving a comment on a relevant issue that is already open.\n",
    "Our preferred channels of communication are all public, but if you’d like to speak to us in private first, contact our community coordinators at numpy-team@googlegroups.com or on Slack (write numpy-team@googlegroups.com for an invitation).\n",
    "We also have a biweekly community call, details of which are announced on the mailing list. You are very welcome to join.\n",
    "If you are new to contributing to open source, this guide helps explain why, what, and how to successfully get involved.'''"
   ]
  },
  {
   "cell_type": "markdown",
   "metadata": {},
   "source": [
    "## **Paso 2:**"
   ]
  },
  {
   "cell_type": "code",
   "execution_count": 7,
   "metadata": {},
   "outputs": [],
   "source": [
    "texto_limpio = phrase.replace('.','').replace(',','').replace(':','').replace(':','').replace('/','').replace('(','').replace(')','').replace('-','').replace('\"','').replace('+','')\n"
   ]
  },
  {
   "cell_type": "markdown",
   "metadata": {},
   "source": [
    "## **Paso 3:**"
   ]
  },
  {
   "cell_type": "code",
   "execution_count": 8,
   "metadata": {},
   "outputs": [],
   "source": [
    "es_vocal = lambda palabra: palabra[0].lower() in 'aeiou'"
   ]
  },
  {
   "cell_type": "markdown",
   "metadata": {},
   "source": [
    "## **Paso 4:**"
   ]
  },
  {
   "cell_type": "code",
   "execution_count": 9,
   "metadata": {},
   "outputs": [],
   "source": [
    "lineas = texto_limpio.splitlines()"
   ]
  },
  {
   "cell_type": "markdown",
   "metadata": {},
   "source": [
    "## **Paso 5:**"
   ]
  },
  {
   "cell_type": "code",
   "execution_count": 10,
   "metadata": {},
   "outputs": [
    {
     "name": "stdout",
     "output_type": "stream",
     "text": [
      "La segunda palabra de la línea: \"NumPy is the fundamental package for scientific computing with Python \" empieza con vocal.\n",
      "La segunda palabra de la línea: \"Report a security vulnerability httpstideliftcomdocssecurity\" empieza con vocal.\n",
      "La segunda palabra de la línea: \"Code of Conduct\" empieza con vocal.\n",
      "La segunda palabra de la línea: \"NumPy is a communitydriven open source project developed by a diverse group of contributors The NumPy leadership has made a strong commitment to creating an open inclusive and positive community Please read the NumPy Code of Conduct for guidance on how to interact with others in a way that makes our community thrive\" empieza con vocal.\n",
      "La segunda palabra de la línea: \"Small improvements or fixes are always appreciated If you are considering larger contributions to the source code please contact us through the mailing list first\" empieza con vocal.\n",
      "La segunda palabra de la línea: \"help us stay on top of new and old issues\" empieza con vocal.\n",
      "La segunda palabra de la línea: \"maintain and improve our website\" empieza con vocal.\n",
      "La segunda palabra de la línea: \"We also have a biweekly community call details of which are announced on the mailing list You are very welcome to join\" empieza con vocal.\n"
     ]
    }
   ],
   "source": [
    "for linea in lineas:\n",
    "    palabras = linea.split()\n",
    "    if len(palabras) >= 2 and es_vocal(palabras[1]):\n",
    "        print(f'La segunda palabra de la línea: \"{linea}\" empieza con vocal.')"
   ]
  }
 ],
 "metadata": {
  "kernelspec": {
   "display_name": "venv",
   "language": "python",
   "name": "python3"
  },
  "language_info": {
   "codemirror_mode": {
    "name": "ipython",
    "version": 3
   },
   "file_extension": ".py",
   "mimetype": "text/x-python",
   "name": "python",
   "nbconvert_exporter": "python",
   "pygments_lexer": "ipython3",
   "version": "3.11.2"
  }
 },
 "nbformat": 4,
 "nbformat_minor": 2
}
