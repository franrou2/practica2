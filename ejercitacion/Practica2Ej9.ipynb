{
 "cells": [
  {
   "cell_type": "markdown",
   "metadata": {},
   "source": [
    "# <center> <font color = 'lavendar'> <ins>**Practica 2**\n",
    "\n",
    "### <font color = 'tomato'> <ins>Ejercicio:\n",
    "\n",
    "##### <font color = 'mintcream'> 9. Escriba un programa que solicite por teclado una palabra y calcule el valor de la misma dada la siguiente tabla de valores del juego Scrabble:\n",
    "<table style = \"width:60%\">\n",
    "<tr>\n",
    "<th><b>Letra</th>\n",
    "<th>valor</b></th>\n",
    "</tr>\n",
    "<tr>\n",
    "<td>A, E, I, O, U, L, N, R, S, T</td>\n",
    "<td>1</td>\n",
    "<tr>\n",
    "<td>D, G</td>\n",
    "<td>2</td>\n",
    "<tr>\n",
    "<td>B, C, M, P </td>\n",
    "<td>3</td>\n",
    "<tr>\n",
    "<td>F, H, V, W, Y</td>\n",
    "<td>4</td>\n",
    "<tr>\n",
    "<td>K</td>\n",
    "<td>5</td>\n",
    "<tr>\n",
    "<td>J, X</td>\n",
    "<td>8</td>\n",
    "<tr>\n",
    "<td>Q, Z </td>\n",
    "<td>10</td>\n",
    "</tr>"
   ]
  },
  {
   "cell_type": "markdown",
   "metadata": {},
   "source": [
    "<i>*Tenga en cuenta qué estructura elige para guardar estos valores en Python</i>\n",
    "\n",
    "<b>Ejemplo1 </b>\n",
    "<ul>\n",
    "<li> <b> Palabra: </b> \"solo\"\n",
    "<li> <b> valor:</b> 4\n",
    "<li> <b> Palabra: </b> \"tomate\"\n",
    "<li> <b> valor:</b> 8\n",
    "</ul>"
   ]
  },
  {
   "cell_type": "markdown",
   "metadata": {},
   "source": [
    "### Paso 1: se crea un diccionario (\"puntos\") donde las letras representan las claves y se le asignan el valor otorgado"
   ]
  },
  {
   "cell_type": "code",
   "execution_count": 1,
   "metadata": {},
   "outputs": [],
   "source": [
    "puntos = {\"a\": 1, \"e\": 1, \"i\": 1, \"o\": 1, \"u\": 1, \"l\": 1, \"n\": 1, \"r\": 1, \"s\": 1, \"t\": 1, \"d\": 2, \"g\": 2, \"b\": 3, \"c\": 3, \"m\": 3, \"p\": 3, \"f\": 4, \"h\": 4, \"v\": 4, \"w\": 4, \"y\": 4, \"k\": 5, \"j\": 8, \"x\": 8, \"q\": 10, \"z\": 10}"
   ]
  },
  {
   "cell_type": "markdown",
   "metadata": {},
   "source": [
    "### Paso 2: Se solicita al usuario que ingrese una palabra. Se recorre cada letra de la palabra. En dicho recorrido, se busca en el diccionario a traves de la clave(letra) y su valor es sumado a la variable total, la cual se imprimira al terminar el recorrido"
   ]
  },
  {
   "cell_type": "code",
   "execution_count": 2,
   "metadata": {},
   "outputs": [
    {
     "name": "stdout",
     "output_type": "stream",
     "text": [
      "9\n"
     ]
    }
   ],
   "source": [
    "palabra = input(\"ingrese una palabra\").lower()\n",
    "total = sum(puntos[letra] for letra in palabra)\n",
    "print (total)"
   ]
  }
 ],
 "metadata": {
  "kernelspec": {
   "display_name": "venv",
   "language": "python",
   "name": "python3"
  },
  "language_info": {
   "codemirror_mode": {
    "name": "ipython",
    "version": 3
   },
   "file_extension": ".py",
   "mimetype": "text/x-python",
   "name": "python",
   "nbconvert_exporter": "python",
   "pygments_lexer": "ipython3",
   "version": "3.11.2"
  }
 },
 "nbformat": 4,
 "nbformat_minor": 2
}
