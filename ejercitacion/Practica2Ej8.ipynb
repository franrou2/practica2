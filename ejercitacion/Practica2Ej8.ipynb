{
 "cells": [
  {
   "cell_type": "markdown",
   "metadata": {},
   "source": [
    "# <center> <font color = 'lavendar'> <ins>**Practica 2**\n",
    "\n",
    "### <font color = 'tomato'> <ins>Ejercicio:\n",
    "\n",
    "##### <font color = 'mintcream'> 8. Escriba un programa que solicite que se ingrese una palabra o frase y permita identificar si la misma es un Heterograma (tenga en cuenta que el contenido del enlace es una traducción del inglés por lo cual las palabras que nombra no son heterogramas en español). Un Heterograma es una palabra o frase que no tiene ninguna letra repetida entre sus caracteres.\n",
    "<b>Tener en cuenta </b>\n",
    "<ul>\n",
    "<li> Lo que no se puede repetir en la frase son sólo aquellos caracteres que sean\n",
    "letras.\n",
    "<li> No se distingue entre mayúsculas y minúsculas, es decir si en la frase o palabra tenemos la letra \"T\" y la letra \"t\" la misma NO será un Hererograma.\n",
    "<li>Para simplificar el ejercicio vamos a tomar como que las letras con tilde y sin tilde son distintas. Ya que Python las diferencia:\n",
    "</ul>\n",
    "<b>Ejemplos</b>\n",
    "<table style = \"width:40%\">\n",
    "<tr>\n",
    "<th>Entrada</th>\n",
    "<th>¿Heterograma?</th>\n",
    "</tr>\n",
    "<tr>\n",
    "<td>cruzamiento</td>\n",
    "<td>Sí</td>\n",
    "<tr>\n",
    "<td>centrifugados</td>\n",
    "<td>Sí</td>\n",
    "<tr>\n",
    "<td>portón </td>\n",
    "<td>Sí</td>\n",
    "<tr>\n",
    "<td>casa</td>\n",
    "<td>No</td>\n",
    "<tr>\n",
    "<td>día de sol</td>\n",
    "<td>No</td>\n",
    "<tr>\n",
    "<td>con diez uñas</td>\n",
    "<td>Sí</td>\n",
    "<tr>\n",
    "<td>no-se-duplica </td>\n",
    "<td>Sí</td>\n",
    "<tr>\n"
   ]
  },
  {
   "cell_type": "markdown",
   "metadata": {},
   "source": [
    "A los fines de dar respuesta al planteo, se realizaron las siguientes acciones:\n",
    "<ol>\n",
    "<li> Se solicito al usuario que ingrese una frase o palabra, la cual fue almacenada en una variable\n",
    "<li> Se definio una funcion que recibe la frase o palabra y determina si es un heterograma\n",
    "<li> Se ejecuto la funcion y se imprimio el resultado que devolvio\n",
    "<ol\\>"
   ]
  },
  {
   "cell_type": "markdown",
   "metadata": {},
   "source": [
    "### Paso 1:"
   ]
  },
  {
   "cell_type": "code",
   "execution_count": 1,
   "metadata": {},
   "outputs": [],
   "source": [
    "ingreso = input(\"ingrese una palabra o frase\")"
   ]
  },
  {
   "cell_type": "markdown",
   "metadata": {},
   "source": [
    "### Paso 2: Al efecto, se creo un conjunto vacio (letras_revisadas). Se puso la palabra o frase en minuscula y se eliminaron los espacios. Luego se recorrio letra por letra de la frase o palabra. En tal punto, primero se pregunto si era una letra del alfabeto, a los efectos de no contabilizar caracteres especiales, como guiones. Finalmente, se evaluo si la letra se encontraba dentro del conjunto, de ser asi la funcion retorna False, de lo contrario se agrega la letra al conjunto y continua ejecutandose."
   ]
  },
  {
   "cell_type": "code",
   "execution_count": 2,
   "metadata": {},
   "outputs": [],
   "source": [
    "def es_Heterograma (frase):\n",
    "    letras_revisadas= set()\n",
    "    frase_nueva = frase.lower().replace(\" \",\"\")\n",
    "    for letra in frase_nueva:\n",
    "        if letra.isalpha():\n",
    "            if letra in letras_revisadas:\n",
    "                return False\n",
    "            else:\n",
    "                letras_revisadas.add(letra)\n",
    "    return True       "
   ]
  },
  {
   "cell_type": "code",
   "execution_count": 3,
   "metadata": {},
   "outputs": [
    {
     "name": "stdout",
     "output_type": "stream",
     "text": [
      "La frase no es un heterograma.\n"
     ]
    }
   ],
   "source": [
    "if es_Heterograma(ingreso):\n",
    "    print(\"La frase es un heterograma.\")\n",
    "else:\n",
    "    print(\"La frase no es un heterograma.\")"
   ]
  }
 ],
 "metadata": {
  "kernelspec": {
   "display_name": "venv",
   "language": "python",
   "name": "python3"
  },
  "language_info": {
   "codemirror_mode": {
    "name": "ipython",
    "version": 3
   },
   "file_extension": ".py",
   "mimetype": "text/x-python",
   "name": "python",
   "nbconvert_exporter": "python",
   "pygments_lexer": "ipython3",
   "version": "3.11.2"
  }
 },
 "nbformat": 4,
 "nbformat_minor": 2
}
