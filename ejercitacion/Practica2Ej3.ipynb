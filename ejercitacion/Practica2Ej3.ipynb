{
 "cells": [
  {
   "cell_type": "markdown",
   "metadata": {},
   "source": [
    "# <center> <font color = 'hotpink'><ins>**Practica 2**\n",
    "\n",
    "### <font color = 'indigo'><ins>Ejercicio:\n",
    "\n",
    "##### <font color = 'salmon'>3. Dado el siguiente texto guardado en la varible jupyter_info, solicite por teclado una letra e imprima las palabras que contengan dicha letra. En caso que no se haya ingresado un letra, indique el error. Ver: módulo string"
   ]
  },
  {
   "cell_type": "markdown",
   "metadata": {},
   "source": [
    "<font color = 'lemonchiffon'> jupyter_info = \"\"\" JupyterLab is a web-based interactive development\n",
    "environment for Jupyter notebooks, code, and data. JupyterLab is\n",
    "flexible: configure and arrange the user interface to support a wide\n",
    "range of workflows in data science, scientific computing, and machine\n",
    "learning. JupyterLab is extensible and modular: write plugins that add\n",
    "new components and integrate with existing ones. \"\"\""
   ]
  },
  {
   "cell_type": "markdown",
   "metadata": {},
   "source": [
    "El presente ejercicio se resolvio llevando a cabo el siguiente curso instrucciones:\n",
    "<ol>\n",
    "<li> Asignar a una variable el contenido del texto\n",
    "<li> Definir una funcion que solicite al usuario que ingrese una letra, la cual es retornada y se almacena en la correspondiente variable. En caso de no ser letra, informa error y de forma recursiva vuelve a llamar a la funcion\n",
    "<li> Ejecutar la funcion y almacenar la eleccion \n",
    "<li> Fraccionar el texto en palabras, utilizando la funcion split\n",
    "<li> Buscar en cada palabra si esta contenida la letra ingresada por el usuario. En caso afirmativo, imprimir la palabra\n"
   ]
  },
  {
   "cell_type": "markdown",
   "metadata": {},
   "source": [
    "### Paso 1:"
   ]
  },
  {
   "cell_type": "code",
   "execution_count": 1,
   "metadata": {},
   "outputs": [],
   "source": [
    "texto = \"\"\"JupyterLab is a web-based interactive development\n",
    "environment for Jupyter notebooks, code, and data. JupyterLab is\n",
    "flexible: configure and arrange the user interface to support a wide\n",
    "range of workflows in data science, scientific computing, and machine\n",
    "learning. JupyterLab is extensible and modular: write plugins that add\n",
    "new components and integrate with existing ones.\"\"\""
   ]
  },
  {
   "cell_type": "markdown",
   "metadata": {},
   "source": [
    "### Paso 2: En este caso se utiliza la funcion \".isalpha()\". Una alternativa seria utilizar el string.ascii_letters del modulo string en su reemplazo "
   ]
  },
  {
   "cell_type": "code",
   "execution_count": 2,
   "metadata": {},
   "outputs": [],
   "source": [
    "def ingresar_letra ():\n",
    "    letra_ingresada = input(\"Ingrese una letra\")\n",
    "    if len(letra_ingresada) == 1 and letra_ingresada.isalpha():\n",
    "        print (\"la letra ingresada es\", letra_ingresada)\n",
    "    else:\n",
    "        print (\"error, intentelo nuevamente\")\n",
    "        letra_ingresada = ingresar_letra()\n",
    "    return letra_ingresada"
   ]
  },
  {
   "cell_type": "markdown",
   "metadata": {},
   "source": [
    "### Paso 3:"
   ]
  },
  {
   "cell_type": "code",
   "execution_count": 3,
   "metadata": {},
   "outputs": [
    {
     "name": "stdout",
     "output_type": "stream",
     "text": [
      "error, intentelo nuevamente\n",
      "la letra ingresada es e\n"
     ]
    }
   ],
   "source": [
    "eleccion = ingresar_letra()"
   ]
  },
  {
   "cell_type": "markdown",
   "metadata": {},
   "source": [
    "### Paso 4:"
   ]
  },
  {
   "cell_type": "code",
   "execution_count": 4,
   "metadata": {},
   "outputs": [],
   "source": [
    "\n",
    "palabras_en_texto = texto.split()"
   ]
  },
  {
   "cell_type": "markdown",
   "metadata": {},
   "source": [
    "### Paso 5:"
   ]
  },
  {
   "cell_type": "code",
   "execution_count": 5,
   "metadata": {},
   "outputs": [
    {
     "name": "stdout",
     "output_type": "stream",
     "text": [
      "Palabras que contienen la letra e:\n",
      "JupyterLab\n",
      "web-based\n",
      "interactive\n",
      "development\n",
      "environment\n",
      "Jupyter\n",
      "notebooks,\n",
      "code,\n",
      "JupyterLab\n",
      "flexible:\n",
      "configure\n",
      "arrange\n",
      "the\n",
      "user\n",
      "interface\n",
      "wide\n",
      "range\n",
      "science,\n",
      "scientific\n",
      "machine\n",
      "learning.\n",
      "JupyterLab\n",
      "extensible\n",
      "write\n",
      "new\n",
      "components\n",
      "integrate\n",
      "existing\n",
      "ones.\n"
     ]
    }
   ],
   "source": [
    "palabras_con_letra = list(filter(lambda palabra: eleccion in palabra.lower(), palabras_en_texto))\n",
    "if palabras_con_letra:\n",
    "    print(f'Palabras que contienen la letra {eleccion}:')\n",
    "    for palabra in palabras_con_letra:\n",
    "        print(palabra)\n",
    "else:\n",
    "    print(f\"No hay palabras que contengan la letra '{eleccion}'\")"
   ]
  }
 ],
 "metadata": {
  "kernelspec": {
   "display_name": "venv",
   "language": "python",
   "name": "python3"
  },
  "language_info": {
   "codemirror_mode": {
    "name": "ipython",
    "version": 3
   },
   "file_extension": ".py",
   "mimetype": "text/x-python",
   "name": "python",
   "nbconvert_exporter": "python",
   "pygments_lexer": "ipython3",
   "version": "3.11.2"
  }
 },
 "nbformat": 4,
 "nbformat_minor": 2
}
