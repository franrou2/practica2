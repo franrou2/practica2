{
 "cells": [
  {
   "cell_type": "markdown",
   "metadata": {},
   "source": [
    "# <center> <font color = 'Mistyrose'> <ins>**Practica 2**\n",
    "\n",
    "### <font color = 'paleturquoise'> <ins>Ejercicio:\n",
    "\n",
    "##### <font color = 'royalblue'> 6. Dada una frase y un string ingresados por teclado (en ese orden), genere una lista de palabras, y sobre ella, informe la cantidad de palabras en las que se encuentra el string. No distingir entre mayúsculas y minúsculas\n",
    "<ul>\n",
    "<li><b>Ejemplo 1</b>:  \n",
    "\n",
    "<blockquote> <li><b>Para la frase: </b>\"Tres tristes tigres, tragaban trigo en un trigal, en tres tristes trastos, tragaban trigo tres tristes tigres.\"  \n",
    "<li><b>Palabra:</b>\"tres\"\n",
    "<li><b>Resultado:</b>3</blockquote>\n",
    "\n",
    "<li><b>Ejemplo 2</b>:  \n",
    "\n",
    "<blockquote> <li><b>Para la frase: </b>\"Tres tristes tigres, tragaban trigo en un trigal, en tres tristes trastos, tragaban trigo tres tristes tigres.\"  \n",
    "<li><b>Palabra:</b>\"tigres\"\n",
    "<li><b>Resultado:</b>2</blockquote>\n",
    "\n",
    "<li><b>Ejemplo 3</b>:  \n",
    "\n",
    "<blockquote> <li><b>Para la frase: </b>\"Tres tristes tigres, tragaban trigo en un trigal, en tres tristes trastos, tragaban trigo tres tristes tigres.\"  \n",
    "<li><b>Palabra:</b>\"TRISTES\"\n",
    "<li><b>Resultado:</b>3</blockquote>\n",
    "</ul>"
   ]
  },
  {
   "cell_type": "markdown",
   "metadata": {},
   "source": [
    "<font color = 'whitesmoke'> A los efectos de resolver el presente planteo, se realizaron los siguientes pasos:\n",
    "<ol>\n",
    "<li> Solicitar al usuario que ingrese una frase\n",
    "<li> Solicitar al usuario que ingrese un string\n",
    "<li> Dividir la frase en palabras, e incorporarlas dentro de una lista\n",
    "<li> Informar la cantidad de palabras en las que se encuentra el string\n",
    "</ol>"
   ]
  },
  {
   "cell_type": "markdown",
   "metadata": {},
   "source": [
    "### Paso 1:"
   ]
  },
  {
   "cell_type": "code",
   "execution_count": 1,
   "metadata": {},
   "outputs": [],
   "source": [
    "frase = input(\"Ingrese una frase\")"
   ]
  },
  {
   "cell_type": "markdown",
   "metadata": {},
   "source": [
    "### Paso 2:"
   ]
  },
  {
   "cell_type": "code",
   "execution_count": 2,
   "metadata": {},
   "outputs": [],
   "source": [
    "busqueda = input(\"Ingrese el string a buscar en la frase\").lower()"
   ]
  },
  {
   "cell_type": "markdown",
   "metadata": {},
   "source": [
    "### Paso 3:"
   ]
  },
  {
   "cell_type": "code",
   "execution_count": 3,
   "metadata": {},
   "outputs": [],
   "source": [
    "lista_de_palabras = frase.lower().split() "
   ]
  },
  {
   "cell_type": "markdown",
   "metadata": {},
   "source": [
    "### Paso 4:"
   ]
  },
  {
   "cell_type": "code",
   "execution_count": 4,
   "metadata": {},
   "outputs": [
    {
     "name": "stdout",
     "output_type": "stream",
     "text": [
      "1\n"
     ]
    }
   ],
   "source": [
    "cantidad = sum(1 for palabra in lista_de_palabras if busqueda in palabra)\n",
    "print (cantidad)        "
   ]
  }
 ],
 "metadata": {
  "kernelspec": {
   "display_name": "venv",
   "language": "python",
   "name": "python3"
  },
  "language_info": {
   "codemirror_mode": {
    "name": "ipython",
    "version": 3
   },
   "file_extension": ".py",
   "mimetype": "text/x-python",
   "name": "python",
   "nbconvert_exporter": "python",
   "pygments_lexer": "ipython3",
   "version": "3.11.2"
  }
 },
 "nbformat": 4,
 "nbformat_minor": 2
}
