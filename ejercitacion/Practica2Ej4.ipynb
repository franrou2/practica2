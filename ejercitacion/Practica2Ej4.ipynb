{
 "cells": [
  {
   "cell_type": "markdown",
   "metadata": {},
   "source": [
    "# <center> <font color = 'Mediumauqamarine'> <ins>**Practica 2**\n",
    "\n",
    "### <font color = 'snow'> <ins>Ejercicio:\n",
    "\n",
    "##### <font color = 'bisque'> 4.Dado el siguiente código que informa si la letra a se encuentra en una palabra ingresada por teclado:\n",
    "<font color = 'coral'>word = input(\"Ingresá una palabra: \") \n",
    " \n",
    "if \"a\" in word:  \n",
    ">print(\"Hay al menos una letra a.\")\n",
    "\n",
    "else:  \n",
    ">print(\"No hay letras a. \")  \n",
    "\n",
    "##### <font color = 'bisque'> Si ahora queremos saber si contiene la letra a y también la letra n, ¿cómo lo modificamos?\n"
   ]
  },
  {
   "cell_type": "markdown",
   "metadata": {},
   "source": [
    "Una alternativa a lo requerido se vislumbra en el siguiente codigo, en el cual primero evalua la concurrencia de ambas letras en la palabra. Asimismo, de no satisfacerse dicha condicion, analiza de forma independiente para cada una de las letras buscadas si esta contenida en la palabra ingresada. En caso contrario, imprime que la busqueda resulto infructuosa."
   ]
  },
  {
   "cell_type": "code",
   "execution_count": 2,
   "metadata": {},
   "outputs": [
    {
     "name": "stdout",
     "output_type": "stream",
     "text": [
      "Hay al menos una letra a y n.\n"
     ]
    }
   ],
   "source": [
    "word = input(\"Ingresá una palabra: \") \n",
    "if \"a\" in word and \"n\" in word:  \n",
    "    print(\"Hay al menos una letra a y n.\")\n",
    "elif \"a\" in word:\n",
    "     print (\"Al menos hay una letra a. \")\n",
    "elif \"n\" in word:\n",
    "     print (\"Al menos hay una letra n. \")\n",
    "else:\n",
    "    print (\"No hay letras a ni n en la palabra ingresada.\")"
   ]
  }
 ],
 "metadata": {
  "kernelspec": {
   "display_name": "venv",
   "language": "python",
   "name": "python3"
  },
  "language_info": {
   "codemirror_mode": {
    "name": "ipython",
    "version": 3
   },
   "file_extension": ".py",
   "mimetype": "text/x-python",
   "name": "python",
   "nbconvert_exporter": "python",
   "pygments_lexer": "ipython3",
   "version": "3.11.2"
  }
 },
 "nbformat": 4,
 "nbformat_minor": 2
}
