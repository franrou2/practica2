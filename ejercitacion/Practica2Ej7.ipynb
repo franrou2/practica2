{
 "cells": [
  {
   "cell_type": "markdown",
   "metadata": {},
   "source": [
    "# <center> <font color = 'tomato'> <ins>**Practica 2**\n",
    "\n",
    "### <font color = 'thistle'> <ins>Ejercicio:\n",
    "\n",
    "##### <font color = 'yellow'> 7. Dada una frase contar mayúsculas, minúsculas, caracteres no letras y la cantidad de palabras sin distinguir entre mayúsculas y minúsculas.\n",
    "\n",
    "##### <font color = 'whitesmoke'> text = \"\"\" La brecha salarial alcanzó el 27,7%: las mujeres ocupadas debieron trabajar 8 días y 10 horas más que los varones ocupados para ganar lo mismo que ellos en un mes. \"\"\""
   ]
  },
  {
   "cell_type": "markdown",
   "metadata": {},
   "source": [
    "### Pasos a seguir:\n",
    "<ol>\n",
    "<li> Asignar el texto a una variable\n",
    "<li> Contar la cantidad de letras minusculas, mayusculas y otros caracteres\n",
    "<li> Contar la cantidad de palabras del texto\n",
    "<li> Imprimir resultado\n",
    "<ol\\>"
   ]
  },
  {
   "cell_type": "markdown",
   "metadata": {},
   "source": [
    "### Paso 1:"
   ]
  },
  {
   "cell_type": "code",
   "execution_count": 16,
   "metadata": {},
   "outputs": [],
   "source": [
    "text = \"\"\" La brecha salarial alcanzó el 27,7%: las mujeres ocupadas debieron trabajar 8 días y 10 horas más que los varones ocupados para ganar lo mismo que ellos en un mes. \"\"\"\n"
   ]
  },
  {
   "cell_type": "markdown",
   "metadata": {},
   "source": [
    "### Paso 2: En este punto, se podria recorrer el texto una unica vez, analizando a que categoria pertenece cada letra y sumandola a una variable <font color= 'red'>(ej: for caracter in text: if caracter. islower(): minusculas += 1)"
   ]
  },
  {
   "cell_type": "code",
   "execution_count": 17,
   "metadata": {},
   "outputs": [],
   "source": [
    "minusculas = sum(1 for caracter in text if caracter.islower())\n",
    "mayusculas = sum(1 for caracter in text if caracter.isupper())\n",
    "caracteres_no_letras = sum(1 for caracter in text if not caracter.isalpha() and not caracter.isspace())\n"
   ]
  },
  {
   "cell_type": "markdown",
   "metadata": {},
   "source": [
    "### Paso 3:"
   ]
  },
  {
   "cell_type": "code",
   "execution_count": 18,
   "metadata": {},
   "outputs": [],
   "source": [
    "cantidad_de_palabras = len(text.split())"
   ]
  },
  {
   "cell_type": "markdown",
   "metadata": {},
   "source": [
    "### Paso 4:"
   ]
  },
  {
   "cell_type": "code",
   "execution_count": 19,
   "metadata": {},
   "outputs": [
    {
     "name": "stdout",
     "output_type": "stream",
     "text": [
      "minusculas: 123\n",
      "mayusculas: 1\n",
      "caracteres no letras: 10\n",
      "cantidad de palabras: 30\n"
     ]
    }
   ],
   "source": [
    "print(\"minusculas:\", minusculas)\n",
    "print(\"mayusculas:\", mayusculas)\n",
    "print(\"caracteres no letras:\", caracteres_no_letras)\n",
    "print(\"cantidad de palabras:\", cantidad_de_palabras)"
   ]
  },
  {
   "cell_type": "markdown",
   "metadata": {},
   "source": []
  }
 ],
 "metadata": {
  "kernelspec": {
   "display_name": "venv",
   "language": "python",
   "name": "python3"
  },
  "language_info": {
   "codemirror_mode": {
    "name": "ipython",
    "version": 3
   },
   "file_extension": ".py",
   "mimetype": "text/x-python",
   "name": "python",
   "nbconvert_exporter": "python",
   "pygments_lexer": "ipython3",
   "version": "3.11.2"
  }
 },
 "nbformat": 4,
 "nbformat_minor": 2
}
